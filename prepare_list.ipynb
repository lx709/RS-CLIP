{
 "cells": [
  {
   "cell_type": "code",
   "execution_count": null,
   "id": "0b74dfb4",
   "metadata": {},
   "outputs": [],
   "source": []
  },
  {
   "cell_type": "code",
   "execution_count": 28,
   "id": "763435d6",
   "metadata": {},
   "outputs": [
    {
     "name": "stdout",
     "output_type": "stream",
     "text": [
      "forest 0\n",
      "railway_station 1\n",
      "tennis_court 2\n",
      "basketball_court 3\n",
      "river 4\n",
      "storage_tank 5\n",
      "harbor 6\n",
      "terrace 7\n",
      "thermal_power_station 8\n",
      "golf_course 9\n",
      "runway 10\n",
      "roundabout 11\n",
      "bridge 12\n",
      "industrial_area 13\n",
      "baseball_diamond 14\n",
      "mobile_home_park 15\n",
      "overpass 16\n",
      "church 17\n",
      "chaparral 18\n",
      "railway 19\n",
      "stadium 20\n",
      "medium_residential 21\n",
      "sea_ice 22\n",
      "intersection 23\n",
      "lake 24\n",
      "palace 25\n",
      "airplane 26\n",
      "cloud 27\n",
      "sparse_residential 28\n",
      "airport 29\n",
      "snowberg 30\n",
      "parking_lot 31\n",
      "commercial_area 32\n",
      "rectangular_farmland 33\n",
      "island 34\n",
      "beach 35\n",
      "circular_farmland 36\n",
      "dense_residential 37\n",
      "ship 38\n",
      "mountain 39\n",
      "desert 40\n",
      "freeway 41\n",
      "meadow 42\n",
      "wetland 43\n",
      "ground_track_field 44\n"
     ]
    }
   ],
   "source": [
    "import os, glob\n",
    "all_list = []\n",
    "all_label = []\n",
    "\n",
    "data_root = 'NWPU-RESISC45/'\n",
    "all_classes = os.listdir(data_root + 'Images/')\n",
    "\n",
    "f1 = open(data_root+'all.txt', 'w')\n",
    "f2 = open(data_root+'label_list.txt', 'w')\n",
    "\n",
    "for i, cls in enumerate(all_classes):\n",
    "    print(cls, i)\n",
    "    f2.writelines(cls + ', ' + str(i) + '\\n')\n",
    "    \n",
    "    cls_list = glob.glob(os.path.join(data_root, cls, '*.jpg'))\n",
    "    cls_list = [\"/\".join(dd.split('/')[1:]) for dd in cls_list]\n",
    "    \n",
    "    for cc in cls_list:\n",
    "        f1.writelines(cc + ' ' + str(i) + '\\n')\n",
    "    \n",
    "f1.close()\n",
    "f2.close()"
   ]
  },
  {
   "cell_type": "code",
   "execution_count": null,
   "id": "74d87165",
   "metadata": {},
   "outputs": [],
   "source": []
  }
 ],
 "metadata": {
  "kernelspec": {
   "display_name": "Python 3",
   "language": "python",
   "name": "python3"
  },
  "language_info": {
   "codemirror_mode": {
    "name": "ipython",
    "version": 3
   },
   "file_extension": ".py",
   "mimetype": "text/x-python",
   "name": "python",
   "nbconvert_exporter": "python",
   "pygments_lexer": "ipython3",
   "version": "3.8.8"
  }
 },
 "nbformat": 4,
 "nbformat_minor": 5
}
